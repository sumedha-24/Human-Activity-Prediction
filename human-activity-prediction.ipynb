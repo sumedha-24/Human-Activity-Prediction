{
 "cells": [
  {
   "cell_type": "code",
   "execution_count": 1,
   "id": "075da914",
   "metadata": {
    "_cell_guid": "b1076dfc-b9ad-4769-8c92-a6c4dae69d19",
    "_uuid": "8f2839f25d086af736a60e9eeb907d3b93b6e0e5",
    "execution": {
     "iopub.execute_input": "2021-11-26T17:40:14.412769Z",
     "iopub.status.busy": "2021-11-26T17:40:14.412100Z",
     "iopub.status.idle": "2021-11-26T17:40:20.099899Z",
     "shell.execute_reply": "2021-11-26T17:40:20.099231Z",
     "shell.execute_reply.started": "2021-11-26T17:30:09.310775Z"
    },
    "papermill": {
     "duration": 5.72696,
     "end_time": "2021-11-26T17:40:20.100075",
     "exception": false,
     "start_time": "2021-11-26T17:40:14.373115",
     "status": "completed"
    },
    "tags": []
   },
   "outputs": [
    {
     "name": "stdout",
     "output_type": "stream",
     "text": [
      "<class 'pandas.core.frame.DataFrame'>\n",
      "RangeIndex: 1215745 entries, 0 to 1215744\n",
      "Data columns (total 14 columns):\n",
      " #   Column    Non-Null Count    Dtype  \n",
      "---  ------    --------------    -----  \n",
      " 0   alx       1215745 non-null  float64\n",
      " 1   aly       1215745 non-null  float64\n",
      " 2   alz       1215745 non-null  float64\n",
      " 3   glx       1215745 non-null  float64\n",
      " 4   gly       1215745 non-null  float64\n",
      " 5   glz       1215745 non-null  float64\n",
      " 6   arx       1215745 non-null  float64\n",
      " 7   ary       1215745 non-null  float64\n",
      " 8   arz       1215745 non-null  float64\n",
      " 9   grx       1215745 non-null  float64\n",
      " 10  gry       1215745 non-null  float64\n",
      " 11  grz       1215745 non-null  float64\n",
      " 12  Activity  1215745 non-null  int64  \n",
      " 13  subject   1215745 non-null  object \n",
      "dtypes: float64(12), int64(1), object(1)\n",
      "memory usage: 129.9+ MB\n",
      "None\n"
     ]
    }
   ],
   "source": [
    "from sklearn import metrics\n",
    "import numpy as np # linear algebra\n",
    "import pandas as pd # data processing, CSV file I/O (e.g. pd.read_csv)\n",
    "import os\n",
    "import time\n",
    "import matplotlib.pyplot as plt\n",
    "plt.cla()   # Clear axis\n",
    "plt.clf()   # Clear figure\n",
    "plt.close('all')\n",
    "\n",
    "df = pd.read_csv('../input/mobile-health/mhealth_raw_data.csv')\n",
    "print(df.info())\n",
    "\n",
    "\n"
   ]
  },
  {
   "cell_type": "code",
   "execution_count": 2,
   "id": "4d796cfa",
   "metadata": {
    "execution": {
     "iopub.execute_input": "2021-11-26T17:40:20.154173Z",
     "iopub.status.busy": "2021-11-26T17:40:20.153522Z",
     "iopub.status.idle": "2021-11-26T17:40:22.050888Z",
     "shell.execute_reply": "2021-11-26T17:40:22.050220Z",
     "shell.execute_reply.started": "2021-11-26T17:30:12.418108Z"
    },
    "papermill": {
     "duration": 1.926091,
     "end_time": "2021-11-26T17:40:22.051037",
     "exception": false,
     "start_time": "2021-11-26T17:40:20.124946",
     "status": "completed"
    },
    "tags": []
   },
   "outputs": [],
   "source": [
    "train_data = pd.read_csv('../input/human-activity-recognition-with-smartphones/train.csv')\n",
    "test_data = pd.read_csv('../input/human-activity-recognition-with-smartphones/test.csv')\n"
   ]
  },
  {
   "cell_type": "code",
   "execution_count": 3,
   "id": "9e149e16",
   "metadata": {
    "execution": {
     "iopub.execute_input": "2021-11-26T17:40:22.103884Z",
     "iopub.status.busy": "2021-11-26T17:40:22.103162Z",
     "iopub.status.idle": "2021-11-26T17:40:22.107214Z",
     "shell.execute_reply": "2021-11-26T17:40:22.107695Z",
     "shell.execute_reply.started": "2021-11-26T17:30:13.641053Z"
    },
    "papermill": {
     "duration": 0.032119,
     "end_time": "2021-11-26T17:40:22.107875",
     "exception": false,
     "start_time": "2021-11-26T17:40:22.075756",
     "status": "completed"
    },
    "tags": []
   },
   "outputs": [],
   "source": [
    "pd.set_option(\"display.max_columns\", None)"
   ]
  },
  {
   "cell_type": "code",
   "execution_count": 4,
   "id": "331eaf88",
   "metadata": {
    "execution": {
     "iopub.execute_input": "2021-11-26T17:40:22.161599Z",
     "iopub.status.busy": "2021-11-26T17:40:22.160843Z",
     "iopub.status.idle": "2021-11-26T17:40:22.169079Z",
     "shell.execute_reply": "2021-11-26T17:40:22.168563Z",
     "shell.execute_reply.started": "2021-11-26T17:30:13.646831Z"
    },
    "papermill": {
     "duration": 0.037155,
     "end_time": "2021-11-26T17:40:22.169233",
     "exception": false,
     "start_time": "2021-11-26T17:40:22.132078",
     "status": "completed"
    },
    "tags": []
   },
   "outputs": [
    {
     "data": {
      "text/plain": [
       "array(['STANDING', 'SITTING', 'LAYING', 'WALKING', 'WALKING_DOWNSTAIRS',\n",
       "       'WALKING_UPSTAIRS'], dtype=object)"
      ]
     },
     "execution_count": 4,
     "metadata": {},
     "output_type": "execute_result"
    }
   ],
   "source": [
    "train_data['Activity'].unique()"
   ]
  },
  {
   "cell_type": "code",
   "execution_count": 5,
   "id": "d0dcfcb5",
   "metadata": {
    "execution": {
     "iopub.execute_input": "2021-11-26T17:40:22.222335Z",
     "iopub.status.busy": "2021-11-26T17:40:22.221578Z",
     "iopub.status.idle": "2021-11-26T17:40:22.491558Z",
     "shell.execute_reply": "2021-11-26T17:40:22.492174Z",
     "shell.execute_reply.started": "2021-11-26T17:30:13.663640Z"
    },
    "papermill": {
     "duration": 0.298544,
     "end_time": "2021-11-26T17:40:22.492364",
     "exception": false,
     "start_time": "2021-11-26T17:40:22.193820",
     "status": "completed"
    },
    "tags": []
   },
   "outputs": [
    {
     "data": {
      "text/plain": [
       "<AxesSubplot:>"
      ]
     },
     "execution_count": 5,
     "metadata": {},
     "output_type": "execute_result"
    },
    {
     "data": {
      "image/png": "[encoded data removed]",
      "text/plain": [
       "<Figure size 432x288 with 1 Axes>"
      ]
     },
     "metadata": {
      "needs_background": "light"
     },
     "output_type": "display_data"
    }
   ],
   "source": [
    "train_data['Activity'].value_counts().sort_values().plot(kind = 'bar', color = 'orange')"
   ]
  },
  {
   "cell_type": "code",
   "execution_count": 6,
   "id": "5fbd300a",
   "metadata": {
    "execution": {
     "iopub.execute_input": "2021-11-26T17:40:22.664568Z",
     "iopub.status.busy": "2021-11-26T17:40:22.663862Z",
     "iopub.status.idle": "2021-11-26T17:40:22.666894Z",
     "shell.execute_reply": "2021-11-26T17:40:22.666351Z",
     "shell.execute_reply.started": "2021-11-26T17:30:13.915993Z"
    },
    "papermill": {
     "duration": 0.148277,
     "end_time": "2021-11-26T17:40:22.667054",
     "exception": false,
     "start_time": "2021-11-26T17:40:22.518777",
     "status": "completed"
    },
    "tags": []
   },
   "outputs": [],
   "source": [
    "def show_plot (df,df_target,plot_size,time_point, plt_title):\n",
    "    plt.figure()\n",
    "    if time_point < plot_size/2:\n",
    "        left_point = 0\n",
    "    else:\n",
    "        left_point  = int(time_point-plot_size/2)\n",
    "    if time_point > len(df) - plot_size/2:\n",
    "        right_point = len(df)\n",
    "    else:\n",
    "        right_point = int(time_point+plot_size/2)\n",
    "\n",
    "    x_c = np.arange(left_point,right_point)\n",
    "    \n",
    "    plt.plot(x_c, df['glz'][left_point:right_point],label ='arx',  color='c')\n",
    "    plt.plot(x_c, df['gry'][left_point:right_point],label ='arx',  color='blue')\n",
    "    plt.plot(x_c, df['alx'][left_point:right_point],label ='arx',  color='green')\n",
    "    plt.plot(x_c, df['arx'][left_point:right_point],label ='arx',  color='orange')\n",
    "    \n",
    "    plt.plot(x_c, 2*np.sign(df_target[left_point:right_point] -1), label ='arx', color='tab:red')\n",
    "    plt.title(plt_title)\n",
    "    plt.legend([\"glz\", \"gry\", \"alx\", \"arx\", \"Activity\"], loc =\"upper left\")\n",
    "    plt.show()"
   ]
  },
  {
   "cell_type": "markdown",
   "id": "e504b4ca",
   "metadata": {
    "papermill": {
     "duration": 0.02525,
     "end_time": "2021-11-26T17:40:22.720121",
     "exception": false,
     "start_time": "2021-11-26T17:40:22.694871",
     "status": "completed"
    },
    "tags": []
   },
   "source": [
    "Median filter function. After median calculation first rows became NaN and were deleted"
   ]
  },
  {
   "cell_type": "code",
   "execution_count": 7,
   "id": "51f27e56",
   "metadata": {
    "execution": {
     "iopub.execute_input": "2021-11-26T17:40:22.777471Z",
     "iopub.status.busy": "2021-11-26T17:40:22.776761Z",
     "iopub.status.idle": "2021-11-26T17:40:22.778302Z",
     "shell.execute_reply": "2021-11-26T17:40:22.778774Z",
     "shell.execute_reply.started": "2021-11-26T17:30:13.928318Z"
    },
    "papermill": {
     "duration": 0.033243,
     "end_time": "2021-11-26T17:40:22.778949",
     "exception": false,
     "start_time": "2021-11-26T17:40:22.745706",
     "status": "completed"
    },
    "tags": []
   },
   "outputs": [],
   "source": [
    "def median_filter(df,target, window):\n",
    "    median = df.rolling(window).median().drop(np.arange(window-1))\n",
    "    target = target.drop(np.arange(window-1))\n",
    "    return median, target"
   ]
  },
  {
   "cell_type": "markdown",
   "id": "52d6ae14",
   "metadata": {
    "papermill": {
     "duration": 0.025707,
     "end_time": "2021-11-26T17:40:22.830378",
     "exception": false,
     "start_time": "2021-11-26T17:40:22.804671",
     "status": "completed"
    },
    "tags": []
   },
   "source": [
    "Take plot of the random plase in data set. It can be seen that raw data has a lot of strong \"jumps\". The median filter will remove them."
   ]
  },
  {
   "cell_type": "code",
   "execution_count": 8,
   "id": "2d8f1445",
   "metadata": {
    "execution": {
     "iopub.execute_input": "2021-11-26T17:40:22.885400Z",
     "iopub.status.busy": "2021-11-26T17:40:22.884748Z",
     "iopub.status.idle": "2021-11-26T17:40:23.165269Z",
     "shell.execute_reply": "2021-11-26T17:40:23.165822Z",
     "shell.execute_reply.started": "2021-11-26T17:30:13.942088Z"
    },
    "papermill": {
     "duration": 0.309945,
     "end_time": "2021-11-26T17:40:23.166000",
     "exception": false,
     "start_time": "2021-11-26T17:40:22.856055",
     "status": "completed"
    },
    "tags": []
   },
   "outputs": [
    {
     "data": {
      "image/png": "[encoded data removed]",
      "text/plain": [
       "<Figure size 432x288 with 1 Axes>"
      ]
     },
     "metadata": {
      "needs_background": "light"
     },
     "output_type": "display_data"
    }
   ],
   "source": [
    "df_target = df.Activity\n",
    "df = df.drop(columns=[\"Activity\",\"subject\"])\n",
    "\n",
    "plot_size = 250\n",
    "tp = 739650\n",
    "plt_title = \"Raw data\"\n",
    "show_plot (df,df_target,plot_size,tp,plt_title)"
   ]
  },
  {
   "cell_type": "markdown",
   "id": "406d39b9",
   "metadata": {
    "papermill": {
     "duration": 0.026588,
     "end_time": "2021-11-26T17:40:23.219452",
     "exception": false,
     "start_time": "2021-11-26T17:40:23.192864",
     "status": "completed"
    },
    "tags": []
   },
   "source": [
    "After median filtered data became more \"quet\". The large window makes the \"jumps\" smaller and increases the predictive success. But let's take a small window (size 5) for an interesting challenge."
   ]
  },
  {
   "cell_type": "code",
   "execution_count": 9,
   "id": "cb83a6b2",
   "metadata": {
    "execution": {
     "iopub.execute_input": "2021-11-26T17:40:23.281382Z",
     "iopub.status.busy": "2021-11-26T17:40:23.280335Z",
     "iopub.status.idle": "2021-11-26T17:40:27.776314Z",
     "shell.execute_reply": "2021-11-26T17:40:27.775649Z",
     "shell.execute_reply.started": "2021-11-26T17:30:14.237562Z"
    },
    "papermill": {
     "duration": 4.528804,
     "end_time": "2021-11-26T17:40:27.776452",
     "exception": false,
     "start_time": "2021-11-26T17:40:23.247648",
     "status": "completed"
    },
    "tags": []
   },
   "outputs": [
    {
     "data": {
      "image/png": "[encoded data removed]",
      "text/plain": [
       "<Figure size 432x288 with 1 Axes>"
      ]
     },
     "metadata": {
      "needs_background": "light"
     },
     "output_type": "display_data"
    }
   ],
   "source": [
    "window=5\n",
    "df_filter, df_target = median_filter(df,df_target,window)\n",
    "\n",
    "\n",
    "df_filter['Activity'] = df_target\n",
    "df_filter.index = range(len(df_filter.index))\n",
    "df_target = df_filter.Activity\n",
    "\n",
    "plt_title = \"Filtered data\"\n",
    "show_plot (df_filter,df_target,plot_size,tp,plt_title)"
   ]
  },
  {
   "cell_type": "markdown",
   "id": "b5dcf833",
   "metadata": {
    "papermill": {
     "duration": 0.027582,
     "end_time": "2021-11-26T17:40:27.832114",
     "exception": false,
     "start_time": "2021-11-26T17:40:27.804532",
     "status": "completed"
    },
    "tags": []
   },
   "source": [
    "calculate Activity timing."
   ]
  },
  {
   "cell_type": "code",
   "execution_count": 10,
   "id": "e44f3361",
   "metadata": {
    "execution": {
     "iopub.execute_input": "2021-11-26T17:40:27.949770Z",
     "iopub.status.busy": "2021-11-26T17:40:27.923785Z",
     "iopub.status.idle": "2021-11-26T17:40:39.426211Z",
     "shell.execute_reply": "2021-11-26T17:40:39.426996Z",
     "shell.execute_reply.started": "2021-11-26T17:30:18.821751Z"
    },
    "papermill": {
     "duration": 11.566569,
     "end_time": "2021-11-26T17:40:39.427170",
     "exception": false,
     "start_time": "2021-11-26T17:40:27.860601",
     "status": "completed"
    },
    "tags": []
   },
   "outputs": [
    {
     "name": "stdout",
     "output_type": "stream",
     "text": [
      "list of activites:\n",
      "     activity    begin      end duration\n",
      "0          0        0     6651     6651\n",
      "1          1     6652     9723     3071\n",
      "2          0     9724    12795     3071\n",
      "3          2    12796    15867     3071\n",
      "4          0    15868    18939     3071\n",
      "..       ...      ...      ...      ...\n",
      "247       10  1192701  1195772     3071\n",
      "248        0  1195773  1198844     3071\n",
      "249       11  1198845  1201916     3071\n",
      "250        0  1201917  1212617    10700\n",
      "251       12  1212618  1213641     1023\n",
      "\n",
      "[252 rows x 4 columns]\n"
     ]
    }
   ],
   "source": [
    "Activity_modes = pd.DataFrame(columns=['activity','begin','end', 'duration'])\n",
    "begin =0\n",
    "for i in range(1,len(df_target)):\n",
    "    if df_target[i] != df_target[i-1]:\n",
    "        row = {'activity': df_target[i-1],\"begin\": begin, \"end\": i-1, \"duration\": i-1-begin}\n",
    "        Activity_modes = Activity_modes.append( row, ignore_index=True )\n",
    "        begin = i\n",
    "print(\"list of activites:\\n\",Activity_modes)"
   ]
  },
  {
   "cell_type": "markdown",
   "id": "b0868abb",
   "metadata": {
    "papermill": {
     "duration": 0.028061,
     "end_time": "2021-11-26T17:40:39.483819",
     "exception": false,
     "start_time": "2021-11-26T17:40:39.455758",
     "status": "completed"
    },
    "tags": []
   },
   "source": [
    "Check features quality\n",
    "\n",
    "* Activity label is not coherent with the real activity measurement.\n",
    "* Activities #5 and #12 are very short"
   ]
  },
  {
   "cell_type": "code",
   "execution_count": 11,
   "id": "aa66bb5f",
   "metadata": {
    "execution": {
     "iopub.execute_input": "2021-11-26T17:40:39.543800Z",
     "iopub.status.busy": "2021-11-26T17:40:39.543053Z",
     "iopub.status.idle": "2021-11-26T17:40:39.813323Z",
     "shell.execute_reply": "2021-11-26T17:40:39.813897Z",
     "shell.execute_reply.started": "2021-11-26T17:30:30.371865Z"
    },
    "papermill": {
     "duration": 0.302016,
     "end_time": "2021-11-26T17:40:39.814078",
     "exception": false,
     "start_time": "2021-11-26T17:40:39.512062",
     "status": "completed"
    },
    "tags": []
   },
   "outputs": [
    {
     "name": "stdout",
     "output_type": "stream",
     "text": [
      "Between change activity mode and change the lable 'activity' exsist gap of ~1000 samples (~20sec in sample rate 50Hz)\n"
     ]
    },
    {
     "data": {
      "image/png": "[encoded data removed]",
      "text/plain": [
       "<Figure size 432x288 with 1 Axes>"
      ]
     },
     "metadata": {
      "needs_background": "light"
     },
     "output_type": "display_data"
    },
    {
     "name": "stdout",
     "output_type": "stream",
     "text": [
      "data size df_filter 1215741\n",
      "activity        12\n",
      "begin       113404\n",
      "end         114478\n",
      "duration      1023\n",
      "dtype: object\n",
      "activity         5\n",
      "begin       157180\n",
      "end         160251\n",
      "duration       511\n",
      "dtype: object\n",
      "Activities  5 (Climbing stairs) and 12 (Jump front & back) has very short time periods\n",
      "activity       0\n",
      "begin          0\n",
      "end         6651\n",
      "duration    1023\n",
      "dtype: object\n",
      "In several places activity #0 (Standing still ) has very short time periods\n"
     ]
    }
   ],
   "source": [
    "plot_size = 2000\n",
    "print(\"Between change activity mode and change the lable 'activity' exsist gap of ~1000 samples (~20sec in sample rate 50Hz)\")\n",
    "tp =Activity_modes['begin'][143]\n",
    "plt_title = \"label 'Activity' and real activity change \"\n",
    "show_plot (df_filter,df_target,plot_size,tp,plt_title)\n",
    "\n",
    "print(\"data size df_filter\",len(df_filter))\n",
    "\n",
    "print(np.min(Activity_modes[Activity_modes['activity']==12]))\n",
    "print(np.min(Activity_modes[Activity_modes['activity']==5]))\n",
    "print(\"Activities  5 (Climbing stairs) and 12 (Jump front & back) has very short time periods\")\n",
    "\n",
    "print(np.min(Activity_modes[Activity_modes['activity']==0]))\n",
    "print(\"In several places activity #0 (Standing still ) has very short time periods\")"
   ]
  },
  {
   "cell_type": "markdown",
   "id": "79d326f6",
   "metadata": {
    "papermill": {
     "duration": 0.03025,
     "end_time": "2021-11-26T17:40:39.875569",
     "exception": false,
     "start_time": "2021-11-26T17:40:39.845319",
     "status": "completed"
    },
    "tags": []
   },
   "source": []
  },
  {
   "cell_type": "markdown",
   "id": "d3b94739",
   "metadata": {
    "papermill": {
     "duration": 0.030735,
     "end_time": "2021-11-26T17:40:39.937267",
     "exception": false,
     "start_time": "2021-11-26T17:40:39.906532",
     "status": "completed"
    },
    "tags": []
   },
   "source": [
    "Downsample all activities to equal amount"
   ]
  },
  {
   "cell_type": "code",
   "execution_count": 12,
   "id": "47714b51",
   "metadata": {
    "execution": {
     "iopub.execute_input": "2021-11-26T17:40:40.002730Z",
     "iopub.status.busy": "2021-11-26T17:40:40.002059Z",
     "iopub.status.idle": "2021-11-26T17:40:40.295418Z",
     "shell.execute_reply": "2021-11-26T17:40:40.294514Z",
     "shell.execute_reply.started": "2021-11-26T17:30:30.666254Z"
    },
    "papermill": {
     "duration": 0.327693,
     "end_time": "2021-11-26T17:40:40.295650",
     "exception": false,
     "start_time": "2021-11-26T17:40:39.967957",
     "status": "completed"
    },
    "tags": []
   },
   "outputs": [
    {
     "name": "stdout",
     "output_type": "stream",
     "text": [
      "Downsample all activities to equal amount\n",
      "Size of each activity is 2000\n",
      "resampled list of activites:\n",
      " 0     2000\n",
      "1     2000\n",
      "2     2000\n",
      "3     2000\n",
      "4     2000\n",
      "5     2000\n",
      "6     2000\n",
      "7     2000\n",
      "8     2000\n",
      "9     2000\n",
      "10    2000\n",
      "11    2000\n",
      "12    2000\n",
      "Name: Activity, dtype: int64\n"
     ]
    }
   ],
   "source": [
    "from sklearn.utils import resample\n",
    " \n",
    "print(\"Downsample all activities to equal amount\") \n",
    "\n",
    "each_act =   2000 # number of indexes of each activity type\n",
    "print(\"Size of each activity is\", each_act) \n",
    "Tmax     = 125 # maximum simulation time (sec)\n",
    "one_activities_max = min(df_filter.Activity.value_counts())\n",
    "if each_act > one_activities_max:\n",
    "    print(\"Error. Activity sample size exceed maximum value(\",one_activities_max,\")\")\n",
    "\n",
    "df_mini = resample(df_filter[df_filter.Activity== 0],n_samples=each_act, random_state=42)\n",
    "for i in range(1,max(df_filter.Activity)+1):\n",
    "    df_one  = resample(df_filter[df_filter.Activity== i],n_samples=each_act, random_state=42)\n",
    "    df_mini = pd.concat([df_mini, df_one])\n",
    "\n",
    "\n",
    "df_mini.index = range(len(df_mini.index))\n",
    "print(\"resampled list of activites:\\n\",df_mini.Activity.value_counts())\n",
    "df_mini_target = df_mini[\"Activity\"]\n",
    "df_mini = df_mini.drop(columns=[\"Activity\"])"
   ]
  },
  {
   "cell_type": "markdown",
   "id": "bc80d190",
   "metadata": {
    "papermill": {
     "duration": 0.033666,
     "end_time": "2021-11-26T17:40:40.362248",
     "exception": false,
     "start_time": "2021-11-26T17:40:40.328582",
     "status": "completed"
    },
    "tags": []
   },
   "source": [
    "Data normalization and Train/Test separation"
   ]
  },
  {
   "cell_type": "code",
   "execution_count": 13,
   "id": "536855de",
   "metadata": {
    "execution": {
     "iopub.execute_input": "2021-11-26T17:40:40.431496Z",
     "iopub.status.busy": "2021-11-26T17:40:40.430271Z",
     "iopub.status.idle": "2021-11-26T17:40:40.463940Z",
     "shell.execute_reply": "2021-11-26T17:40:40.463351Z",
     "shell.execute_reply.started": "2021-11-26T17:30:30.969119Z"
    },
    "papermill": {
     "duration": 0.070619,
     "end_time": "2021-11-26T17:40:40.464098",
     "exception": false,
     "start_time": "2021-11-26T17:40:40.393479",
     "status": "completed"
    },
    "tags": []
   },
   "outputs": [],
   "source": [
    "#data normalization\n",
    "df_mini=(df_mini-df_mini.min())/(df_mini.max()-df_mini.min())\n",
    "\n",
    "from sklearn.model_selection import train_test_split\n",
    "X_train, X_test, y_train, y_test = train_test_split(df_mini, df_mini_target, test_size=0.3)"
   ]
  },
  {
   "cell_type": "markdown",
   "id": "fcd24030",
   "metadata": {
    "papermill": {
     "duration": 0.031085,
     "end_time": "2021-11-26T17:40:40.527415",
     "exception": false,
     "start_time": "2021-11-26T17:40:40.496330",
     "status": "completed"
    },
    "tags": []
   },
   "source": []
  },
  {
   "cell_type": "markdown",
   "id": "9e5b4911",
   "metadata": {
    "papermill": {
     "duration": 0.031521,
     "end_time": "2021-11-26T17:40:40.590420",
     "exception": false,
     "start_time": "2021-11-26T17:40:40.558899",
     "status": "completed"
    },
    "tags": []
   },
   "source": [
    "**Data processing\n",
    "\n",
    "KNeighbors**"
   ]
  },
  {
   "cell_type": "code",
   "execution_count": 14,
   "id": "377d7acb",
   "metadata": {
    "execution": {
     "iopub.execute_input": "2021-11-26T17:40:40.660964Z",
     "iopub.status.busy": "2021-11-26T17:40:40.660137Z",
     "iopub.status.idle": "2021-11-26T17:40:41.609553Z",
     "shell.execute_reply": "2021-11-26T17:40:41.608784Z",
     "shell.execute_reply.started": "2021-11-26T17:30:30.989720Z"
    },
    "papermill": {
     "duration": 0.987746,
     "end_time": "2021-11-26T17:40:41.609777",
     "exception": false,
     "start_time": "2021-11-26T17:40:40.622031",
     "status": "completed"
    },
    "tags": []
   },
   "outputs": [
    {
     "name": "stdout",
     "output_type": "stream",
     "text": [
      "KNeighborsC: N 3 error 7.6 %, Tcalc= 0 sec Accuracy score:   92.3974358974359\n"
     ]
    }
   ],
   "source": [
    "from sklearn.neighbors import KNeighborsClassifier\n",
    "n_neighbors = 3\n",
    "Tstart = time.perf_counter()\n",
    "KNeighbors = KNeighborsClassifier(n_neighbors = int(n_neighbors) )\n",
    "KNeighbors.fit(X_train, y_train)\n",
    "y_pred=KNeighbors.predict(X_test)\n",
    "KNeighborsscore=metrics.accuracy_score(y_test,y_pred)\n",
    "diff_vec = y_pred != y_test\n",
    "err = int(1000*sum(diff_vec)/len(y_pred))/10\n",
    "Tend = time.perf_counter()\n",
    "print(\"KNeighborsC: N\", int(n_neighbors), \"error\", err, \"%, Tcalc=\", int(Tend - Tstart), \"sec\",\"Accuracy score:  \",KNeighborsscore*100)    "
   ]
  },
  {
   "cell_type": "markdown",
   "id": "214b48ba",
   "metadata": {
    "papermill": {
     "duration": 0.033728,
     "end_time": "2021-11-26T17:40:41.677930",
     "exception": false,
     "start_time": "2021-11-26T17:40:41.644202",
     "status": "completed"
    },
    "tags": []
   },
   "source": [
    "Logistic regression\n"
   ]
  },
  {
   "cell_type": "code",
   "execution_count": 15,
   "id": "580ca6bf",
   "metadata": {
    "execution": {
     "iopub.execute_input": "2021-11-26T17:40:41.745038Z",
     "iopub.status.busy": "2021-11-26T17:40:41.744111Z",
     "iopub.status.idle": "2021-11-26T17:41:35.403774Z",
     "shell.execute_reply": "2021-11-26T17:41:35.404796Z",
     "shell.execute_reply.started": "2021-11-26T17:30:31.782249Z"
    },
    "papermill": {
     "duration": 53.695593,
     "end_time": "2021-11-26T17:41:35.405118",
     "exception": false,
     "start_time": "2021-11-26T17:40:41.709525",
     "status": "completed"
    },
    "tags": []
   },
   "outputs": [
    {
     "name": "stdout",
     "output_type": "stream",
     "text": [
      "LogisticRegression: C 1000 error 43.1 % Accuracy score:  56.8974358974359\n"
     ]
    }
   ],
   "source": [
    "from sklearn.linear_model import LogisticRegression\n",
    "C =1000\n",
    "logistic_regression= LogisticRegression(max_iter=50000, C=C)\n",
    "logistic_regression.fit(X_train,y_train)\n",
    "y_pred=logistic_regression.predict(X_test)\n",
    "LogisticRegressionscore=metrics.accuracy_score(y_test,y_pred)\n",
    "diff_vec = y_pred != y_test\n",
    "err = int(1000*sum(diff_vec)/len(y_pred))/10\n",
    "print(\"LogisticRegression: C\", C, \"error\", err, \"%\",\"Accuracy score: \",LogisticRegressionscore*100)   "
   ]
  },
  {
   "cell_type": "markdown",
   "id": "370df34a",
   "metadata": {
    "papermill": {
     "duration": 0.03229,
     "end_time": "2021-11-26T17:41:35.490521",
     "exception": false,
     "start_time": "2021-11-26T17:41:35.458231",
     "status": "completed"
    },
    "tags": []
   },
   "source": [
    "Support Vector classification algorithm"
   ]
  },
  {
   "cell_type": "code",
   "execution_count": 16,
   "id": "c42fb998",
   "metadata": {
    "execution": {
     "iopub.execute_input": "2021-11-26T17:41:35.564972Z",
     "iopub.status.busy": "2021-11-26T17:41:35.564286Z",
     "iopub.status.idle": "2021-11-26T17:41:41.540155Z",
     "shell.execute_reply": "2021-11-26T17:41:41.539402Z",
     "shell.execute_reply.started": "2021-11-26T17:31:21.983452Z"
    },
    "papermill": {
     "duration": 6.017893,
     "end_time": "2021-11-26T17:41:41.540352",
     "exception": false,
     "start_time": "2021-11-26T17:41:35.522459",
     "status": "completed"
    },
    "tags": []
   },
   "outputs": [
    {
     "name": "stdout",
     "output_type": "stream",
     "text": [
      "rbf  calculation\n",
      "SVC: C 1000 gamma 10 error 6.0 %, Tcalc= 5 sec Accuracy score:  93.97435897435898\n"
     ]
    }
   ],
   "source": [
    "from sklearn import svm\n",
    "C = 1000\n",
    "gamma = 10\n",
    "SVM_type = 'rbf'      \n",
    "print(SVM_type, \" calculation\")\n",
    "Tstart = time.perf_counter()\n",
    "model = svm.SVC(kernel=SVM_type, gamma=gamma, C=C)\n",
    "model = model.fit(X_train, y_train)\n",
    "y_pred = model.predict(X_test)\n",
    "svmscore=metrics.accuracy_score(y_test,y_pred)\n",
    "diff = np.array(y_pred) != y_test #).flatten()\n",
    "err = int(1000*sum(diff)/len(y_test))/10\n",
    "Tend = time.perf_counter()\n",
    "print(\"SVC: C\", C, \"gamma\",gamma, \"error\", err, \"%, Tcalc=\", int(Tend - Tstart), \"sec\",\"Accuracy score: \",svmscore*100)"
   ]
  },
  {
   "cell_type": "markdown",
   "id": "25f2da9d",
   "metadata": {
    "papermill": {
     "duration": 0.032341,
     "end_time": "2021-11-26T17:41:41.605664",
     "exception": false,
     "start_time": "2021-11-26T17:41:41.573323",
     "status": "completed"
    },
    "tags": []
   },
   "source": [
    "Random Forest"
   ]
  },
  {
   "cell_type": "code",
   "execution_count": 17,
   "id": "add973e3",
   "metadata": {
    "execution": {
     "iopub.execute_input": "2021-11-26T17:41:41.678132Z",
     "iopub.status.busy": "2021-11-26T17:41:41.673377Z",
     "iopub.status.idle": "2021-11-26T17:42:09.440987Z",
     "shell.execute_reply": "2021-11-26T17:42:09.441725Z",
     "shell.execute_reply.started": "2021-11-26T17:31:28.252514Z"
    },
    "papermill": {
     "duration": 27.804032,
     "end_time": "2021-11-26T17:42:09.441950",
     "exception": false,
     "start_time": "2021-11-26T17:41:41.637918",
     "status": "completed"
    },
    "tags": []
   },
   "outputs": [
    {
     "name": "stdout",
     "output_type": "stream",
     "text": [
      "RandomForestC n_est 800 max_d 7 error 19.6 %, Tcalc= 27 sec Accuracy score:  80.3076923076923\n"
     ]
    }
   ],
   "source": [
    "from sklearn.ensemble import RandomForestClassifier\n",
    "n_est = 800\n",
    "max_d = 7\n",
    "Tstart = time.perf_counter()\n",
    "reg = RandomForestClassifier(n_estimators=int(n_est), max_depth=int(max_d), random_state=0)\n",
    "reg.fit(X_train, y_train)\n",
    "y_pred =  reg.predict(X_test)\n",
    "RandomForestClassifierscore=metrics.accuracy_score(y_test,y_pred)\n",
    "diff_vec = y_pred != y_test\n",
    "err = int(1000*sum(diff_vec)/len(y_pred))/10\n",
    "Tend = time.perf_counter()\n",
    "print(\"RandomForestC\", \"n_est\", n_est,\"max_d\", max_d ,\"error\", err, \"%, Tcalc=\", int(Tend - Tstart), \"sec\",\"Accuracy score: \",RandomForestClassifierscore*100)"
   ]
  },
  {
   "cell_type": "markdown",
   "id": "456cda00",
   "metadata": {
    "papermill": {
     "duration": 0.032793,
     "end_time": "2021-11-26T17:42:09.508059",
     "exception": false,
     "start_time": "2021-11-26T17:42:09.475266",
     "status": "completed"
    },
    "tags": []
   },
   "source": []
  },
  {
   "cell_type": "markdown",
   "id": "debc3941",
   "metadata": {
    "papermill": {
     "duration": 0.033834,
     "end_time": "2021-11-26T17:42:09.576907",
     "exception": false,
     "start_time": "2021-11-26T17:42:09.543073",
     "status": "completed"
    },
    "tags": []
   },
   "source": [
    "Gradient Descent Algorithm"
   ]
  },
  {
   "cell_type": "code",
   "execution_count": 18,
   "id": "ab825da2",
   "metadata": {
    "execution": {
     "iopub.execute_input": "2021-11-26T17:42:09.647414Z",
     "iopub.status.busy": "2021-11-26T17:42:09.646348Z",
     "iopub.status.idle": "2021-11-26T17:44:08.124700Z",
     "shell.execute_reply": "2021-11-26T17:44:08.125268Z",
     "shell.execute_reply.started": "2021-11-26T17:31:56.231329Z"
    },
    "papermill": {
     "duration": 118.515238,
     "end_time": "2021-11-26T17:44:08.125446",
     "exception": false,
     "start_time": "2021-11-26T17:42:09.610208",
     "status": "completed"
    },
    "tags": []
   },
   "outputs": [
    {
     "name": "stdout",
     "output_type": "stream",
     "text": [
      "GradientBC n_est 55 max_d 7 error 6.6 %, Tcalc= 118 sec Accuracy score:  93.3974358974359\n"
     ]
    }
   ],
   "source": [
    "from sklearn.ensemble import GradientBoostingClassifier\n",
    "n_est = 55\n",
    "max_d = 7\n",
    "Tstart = time.perf_counter()\n",
    "reg = GradientBoostingClassifier(n_estimators=int(n_est), max_depth=int(max_d), random_state=0)\n",
    "reg.fit(X_train, y_train)\n",
    "y_pred =  reg.predict(X_test)\n",
    "GradientBoostingClassifierscore=metrics.accuracy_score(y_test,y_pred)\n",
    "diff_vec = y_pred != y_test\n",
    "err = int(1000*sum(diff_vec)/len(y_pred))/10\n",
    "Tend = time.perf_counter()\n",
    "print(\"GradientBC\", \"n_est\", n_est,\"max_d\", max_d ,\"error\", err, \"%, Tcalc=\", int(Tend - Tstart), \"sec\",\"Accuracy score: \",GradientBoostingClassifierscore*100)"
   ]
  },
  {
   "cell_type": "code",
   "execution_count": 19,
   "id": "3df908bc",
   "metadata": {
    "execution": {
     "iopub.execute_input": "2021-11-26T17:44:08.196296Z",
     "iopub.status.busy": "2021-11-26T17:44:08.195276Z",
     "iopub.status.idle": "2021-11-26T17:44:08.224598Z",
     "shell.execute_reply": "2021-11-26T17:44:08.225164Z",
     "shell.execute_reply.started": "2021-11-26T17:33:55.644536Z"
    },
    "papermill": {
     "duration": 0.066473,
     "end_time": "2021-11-26T17:44:08.225358",
     "exception": false,
     "start_time": "2021-11-26T17:44:08.158885",
     "status": "completed"
    },
    "tags": []
   },
   "outputs": [
    {
     "name": "stdout",
     "output_type": "stream",
     "text": [
      "Error summary:\n",
      "11.7 %   (# 0 ) None\n",
      "3.0 %   (#10 ) Jogging (1 min)\n",
      "2.9 %   (# 5 ) Climbing stairs (1 min)\n",
      "2.1 %   (#12 ) Jump front & back (20x)\n",
      "1.8 %   (#11 ) Running (1 min)\n",
      "1.1 %   (# 8 ) Knees bending (crouching) (20x)\n",
      "1.0 %   (# 4 ) Walking (1 min)\n",
      "0.9 %   (# 6 ) Waist bends forward (20x)\n",
      "0.3 %   (# 7 ) Frontal elevation of arms (20x)\n",
      "0.3 %   (# 9 ) Cycling (1 min)\n",
      "0.2 %   (# 2 ) Sitting and relaxing (1 min)\n",
      "0.1 %   (# 1 ) Standing still (1 min)\n",
      "0.0 %   (# 3 ) Lying down (1 min)\n"
     ]
    }
   ],
   "source": [
    "error_investigation = pd.DataFrame(columns=['test', 'pred', 'err'])\n",
    "error_investigation['test'] = y_test\n",
    "error_investigation['pred'] = y_pred\n",
    "error_investigation[ 'err'] = diff_vec\n",
    "\n",
    "Failed = error_investigation[error_investigation[ 'err'] == True]\n",
    "Failed.index = range(len(Failed))\n",
    "activity_labels = {\n",
    "    0: \"None\",\n",
    "    1: \"Standing still (1 min)\",\n",
    "    2: \"Sitting and relaxing (1 min)\",\n",
    "    3: \"Lying down (1 min)\",\n",
    "    4: \"Walking (1 min)\",\n",
    "    5: \"Climbing stairs (1 min)\",\n",
    "    6: \"Waist bends forward (20x)\",\n",
    "    7: \"Frontal elevation of arms (20x)\",\n",
    "    8: \"Knees bending (crouching) (20x)\",\n",
    "    9: \"Cycling (1 min)\",\n",
    "    10: \"Jogging (1 min)\",\n",
    "    11: \"Running (1 min)\",\n",
    "    12: \"Jump front & back (20x)\"\n",
    "}\n",
    "Ftest = Failed.test.value_counts()\n",
    "print(\"Error summary:\")\n",
    "for i in Ftest.index :\n",
    "    proc = int(1000*Ftest[i]/each_act)/10\n",
    "    print(proc,\"%\", \" \", \"(#%2d\" %i,\")\",  activity_labels[i] )"
   ]
  },
  {
   "cell_type": "code",
   "execution_count": 20,
   "id": "d543e594",
   "metadata": {
    "execution": {
     "iopub.execute_input": "2021-11-26T17:44:08.301003Z",
     "iopub.status.busy": "2021-11-26T17:44:08.300275Z",
     "iopub.status.idle": "2021-11-26T17:44:08.668995Z",
     "shell.execute_reply": "2021-11-26T17:44:08.669504Z",
     "shell.execute_reply.started": "2021-11-26T17:39:33.598573Z"
    },
    "papermill": {
     "duration": 0.409979,
     "end_time": "2021-11-26T17:44:08.669715",
     "exception": false,
     "start_time": "2021-11-26T17:44:08.259736",
     "status": "completed"
    },
    "tags": []
   },
   "outputs": [
    {
     "data": {
      "image/png": "[encoded data removed]",
      "text/plain": [
       "<Figure size 576x432 with 1 Axes>"
      ]
     },
     "metadata": {},
     "output_type": "display_data"
    }
   ],
   "source": [
    "import seaborn as sns\n",
    "plt.style.use(\"seaborn\")\n",
    "\n",
    "x = [\n",
    "     \"Supportvectormachine\", \n",
    "     \"RandomForestClassifier\", \n",
    "     \"KNeighborsClassifier\", \n",
    "     \"GradientBoostingClassifier\"]\n",
    "\n",
    "y = [\n",
    "     svmscore, \n",
    "     RandomForestClassifierscore, \n",
    "     KNeighborsscore, \n",
    "     GradientBoostingClassifierscore]\n",
    "\n",
    "fig, ax = plt.subplots(figsize=(8,6))\n",
    "sns.barplot(x=x,y=y);\n",
    "plt.ylabel(\"Model Accuracy\")\n",
    "plt.xticks(rotation=40)\n",
    "plt.title(\"Model Comparison - Model Accuracy\", fontsize=14, fontname=\"Helvetica\", y=1.03);"
   ]
  }
 ],
 "metadata": {
  "kernelspec": {
   "display_name": "Python 3",
   "language": "python",
   "name": "python3"
  },
  "language_info": {
   "codemirror_mode": {
    "name": "ipython",
    "version": 3
   },
   "file_extension": ".py",
   "mimetype": "text/x-python",
   "name": "python",
   "nbconvert_exporter": "python",
   "pygments_lexer": "ipython3",
   "version": "3.7.10"
  },
  "papermill": {
   "default_parameters": {},
   "duration": 244.803315,
   "end_time": "2021-11-26T17:44:09.415469",
   "environment_variables": {},
   "exception": null,
   "input_path": "__notebook__.ipynb",
   "output_path": "__notebook__.ipynb",
   "parameters": {},
   "start_time": "2021-11-26T17:40:04.612154",
   "version": "2.3.3"
  }
 },
 "nbformat": 4,
 "nbformat_minor": 5
}
